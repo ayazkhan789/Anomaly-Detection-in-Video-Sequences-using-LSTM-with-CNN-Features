{
 "cells": [
  {
   "cell_type": "code",
   "execution_count": 1,
   "id": "acae3ba1",
   "metadata": {},
   "outputs": [],
   "source": [
    "# Import the required libraries.\n",
    "import os\n",
    "import cv2\n",
    "import pafy\n",
    "import math\n",
    "import random\n",
    "import numpy as np\n",
    "import datetime as dt\n",
    "import tensorflow as tf\n",
    "from collections import deque\n",
    "import matplotlib.pyplot as plt\n",
    "\n",
    "from moviepy.editor import *\n",
    "%matplotlib inline\n",
    "\n",
    "from sklearn.model_selection import train_test_split\n",
    "\n",
    "from tensorflow.keras.layers import *\n",
    "from tensorflow.keras.models import Sequential\n",
    "from tensorflow.keras.utils import to_categorical\n",
    "from tensorflow.keras.callbacks import EarlyStopping\n",
    "from tensorflow.keras.utils import plot_model"
   ]
  },
  {
   "cell_type": "code",
   "execution_count": 2,
   "id": "417dc7af",
   "metadata": {},
   "outputs": [],
   "source": [
    "seed_constant = 27\n",
    "np.random.seed(seed_constant)\n",
    "random.seed(seed_constant)\n",
    "tf.random.set_seed(seed_constant)"
   ]
  },
  {
   "cell_type": "code",
   "execution_count": 4,
   "id": "e673df83",
   "metadata": {},
   "outputs": [],
   "source": [
    "# Specify the height and width of the images.\n",
    "IMAGE_HEIGHT, IMAGE_WIDTH = 64, 64\n",
    "\n",
    "# Specify the number of frames (images) in a sequence.\n",
    "SEQUENCE_LENGTH = 15\n",
    "\n",
    "# Specify the directory containing your dataset of images.\n",
    "DATASET_DIR = \"E:/University Stuff/DIP_LAB/Anamoly Detection/Anamoly Detection\"\n",
    "\n",
    "# Specify the list containing the names of the classes used for training. Feel free to choose any set of classes.\n",
    "CLASSES_LIST = [\"Abuse\", \"Arrest\",\"Explosion\",\"Fighting\" , \"NormalVideos\", \"RoadAccidents\", \"Robbery\",\"Shooting\" ,\"Stealing\"]"
   ]
  },
  {
   "cell_type": "code",
   "execution_count": 5,
   "id": "521ac727",
   "metadata": {},
   "outputs": [],
   "source": [
    "def load_images(class_name):\n",
    "    images_list = []\n",
    "    class_dir = os.path.join(DATASET_DIR, class_name)\n",
    "    image_files = os.listdir(class_dir)\n",
    "    image_files.sort()\n",
    "\n",
    "    for image_file in image_files:\n",
    "        image_path = os.path.join(class_dir, image_file)\n",
    "        image = cv2.imread(image_path)\n",
    "        resized_image = cv2.resize(image, (IMAGE_HEIGHT, IMAGE_WIDTH))\n",
    "        normalized_image = resized_image / 255.0\n",
    "        images_list.append(normalized_image)\n",
    "\n",
    "    return images_list"
   ]
  },
  {
   "cell_type": "code",
   "execution_count": 6,
   "id": "695ade5d",
   "metadata": {},
   "outputs": [],
   "source": [
    "def create_dataset():\n",
    "    features = []\n",
    "    labels = []\n",
    "\n",
    "    for class_index, class_name in enumerate(CLASSES_LIST):\n",
    "        print(f'Loading data for class: {class_name}')\n",
    "        images = load_images(class_name)\n",
    "\n",
    "        for i in range(0, len(images) - SEQUENCE_LENGTH + 1, SEQUENCE_LENGTH):\n",
    "            sequence = images[i:i+SEQUENCE_LENGTH]\n",
    "            features.append(sequence)\n",
    "            labels.append(class_index)\n",
    "\n",
    "    return np.array(features), np.array(labels)"
   ]
  },
  {
   "cell_type": "code",
   "execution_count": null,
   "id": "167dfb09",
   "metadata": {},
   "outputs": [
    {
     "name": "stdout",
     "output_type": "stream",
     "text": [
      "Loading data for class: Abuse\n",
      "Loading data for class: Arrest\n"
     ]
    }
   ],
   "source": [
    "features, labels = create_dataset()"
   ]
  },
  {
   "cell_type": "code",
   "execution_count": null,
   "id": "de4c3977",
   "metadata": {},
   "outputs": [],
   "source": [
    "one_hot_encoded_labels = to_categorical(labels)"
   ]
  },
  {
   "cell_type": "code",
   "execution_count": null,
   "id": "ec8dcf8e",
   "metadata": {},
   "outputs": [],
   "source": [
    "features_train, features_test, labels_train, labels_test = train_test_split(\n",
    "    features, one_hot_encoded_labels, test_size=0.25, shuffle=True, random_state=42)"
   ]
  },
  {
   "cell_type": "code",
   "execution_count": null,
   "id": "fe34d6d9",
   "metadata": {},
   "outputs": [],
   "source": [
    "def create_LRCN_model():\n",
    "    '''\n",
    "    This function will construct the required LRCN model.\n",
    "    Returns:\n",
    "        model: It is the required constructed LRCN model.\n",
    "    '''\n",
    "\n",
    "    # We will use a Sequential model for model construction.\n",
    "    model = Sequential()\n",
    "    \n",
    "    # Define the Model Architecture.\n",
    "    ########################################################################################################################\n",
    "    model.add(TimeDistributed(Conv2D(16, (3, 3), padding='same',activation = 'relu'),\n",
    "                              input_shape = (SEQUENCE_LENGTH, IMAGE_HEIGHT, IMAGE_WIDTH, 3)))\n",
    "    \n",
    "    model.add(TimeDistributed(MaxPooling2D((4, 4)))) \n",
    "    model.add(TimeDistributed(Dropout(0.25)))\n",
    "    \n",
    "    model.add(TimeDistributed(Conv2D(32, (3, 3), padding='same',activation = 'relu')))\n",
    "    model.add(TimeDistributed(MaxPooling2D((4, 4))))\n",
    "    model.add(TimeDistributed(Dropout(0.25)))\n",
    "    \n",
    "    model.add(TimeDistributed(Conv2D(64, (3, 3), padding='same',activation = 'relu')))\n",
    "    model.add(TimeDistributed(MaxPooling2D((2, 2))))\n",
    "    model.add(TimeDistributed(Dropout(0.25)))\n",
    "    \n",
    "    model.add(TimeDistributed(Conv2D(64, (3, 3), padding='same',activation = 'relu')))\n",
    "    model.add(TimeDistributed(MaxPooling2D((2, 2))))\n",
    "    #model.add(TimeDistributed(Dropout(0.25)))\n",
    "                                      \n",
    "    model.add(TimeDistributed(Flatten()))\n",
    "                                      \n",
    "    model.add(LSTM(32))\n",
    "                                      \n",
    "    model.add(Dense(len(CLASSES_LIST), activation = 'softmax'))\n",
    "\n",
    "    ########################################################################################################################\n",
    "\n",
    "    # Display the models summary.\n",
    "    model.summary()\n",
    "    \n",
    "    # Return the constructed LRCN model.\n",
    "    return model"
   ]
  },
  {
   "cell_type": "code",
   "execution_count": null,
   "id": "76ca4044",
   "metadata": {},
   "outputs": [],
   "source": [
    "LRCN_model = create_LRCN_model()\n",
    "\n",
    "print(\"Model Created Successfully!\")\n"
   ]
  },
  {
   "cell_type": "code",
   "execution_count": null,
   "id": "7e21e9cb",
   "metadata": {},
   "outputs": [],
   "source": [
    "# Compile the model and specify loss function, optimizer and metrics to the model.\n",
    "LRCN_model.compile(loss='categorical_crossentropy', optimizer='Adam', metrics=[\"accuracy\"])\n",
    "\n",
    "# Start training the model.\n",
    "LRCN_model_training_history = LRCN_model.fit(\n",
    "    x=features_train, y=labels_train, epochs=50, batch_size=16,\n",
    "    shuffle=True, validation_split=0.2)\n"
   ]
  },
  {
   "cell_type": "code",
   "execution_count": null,
   "id": "8930ef6f",
   "metadata": {},
   "outputs": [],
   "source": [
    "# Evaluate the trained model.\n",
    "model_evaluation_history = LRCN_model.evaluate(features_test, labels_test)"
   ]
  },
  {
   "cell_type": "code",
   "execution_count": null,
   "id": "8e57d402",
   "metadata": {},
   "outputs": [],
   "source": [
    "# Save the trained model\n",
    "LRCN_model.save(\"LSTM.h5\")\n",
    "print(\"Model saved as LSTM.h5\")"
   ]
  },
  {
   "cell_type": "code",
   "execution_count": null,
   "id": "50664e9c",
   "metadata": {},
   "outputs": [],
   "source": [
    "# Define function to plot metrics\n",
    "def plot_metric(model_training_history, metric_name_1, metric_name_2, plot_name):\n",
    "    metric_value_1 = model_training_history.history[metric_name_1]\n",
    "    metric_value_2 = model_training_history.history[metric_name_2]\n",
    "    epochs = range(len(metric_value_1))\n",
    "\n",
    "    plt.plot(epochs, metric_value_1, 'blue', label=metric_name_1)\n",
    "    plt.plot(epochs, metric_value_2, 'red', label=metric_name_2)\n",
    "    plt.title(str(plot_name))\n",
    "    plt.legend()\n"
   ]
  },
  {
   "cell_type": "code",
   "execution_count": null,
   "id": "5770db0f",
   "metadata": {},
   "outputs": [],
   "source": [
    "# Plot accuracy and validation accuracy metrics\n",
    "plot_metric(LRCN_model_training_history, 'accuracy', 'val_accuracy', 'Total Accuracy vs Total Validation Accuracy')\n",
    "plt.ylabel('Accuracy')\n",
    "plt.xlabel('Epochs')\n",
    "plt.show()\n",
    "\n",
    "# Plot loss and validation loss metrics\n",
    "plot_metric(LRCN_model_training_history, 'loss', 'val_loss', 'Total Loss vs Total Validation Loss')\n",
    "plt.ylabel('Loss')\n",
    "plt.xlabel('Epochs')\n",
    "plt.show()"
   ]
  },
  {
   "cell_type": "code",
   "execution_count": null,
   "id": "7ec48084",
   "metadata": {},
   "outputs": [],
   "source": []
  },
  {
   "cell_type": "code",
   "execution_count": null,
   "id": "89f9c89f",
   "metadata": {},
   "outputs": [],
   "source": []
  },
  {
   "cell_type": "code",
   "execution_count": null,
   "id": "4d8e7b0c",
   "metadata": {},
   "outputs": [],
   "source": []
  },
  {
   "cell_type": "code",
   "execution_count": null,
   "id": "c4fa458e",
   "metadata": {},
   "outputs": [],
   "source": []
  },
  {
   "cell_type": "code",
   "execution_count": null,
   "id": "3f6786b8",
   "metadata": {},
   "outputs": [],
   "source": []
  }
 ],
 "metadata": {
  "kernelspec": {
   "display_name": "Python 3 (ipykernel)",
   "language": "python",
   "name": "python3"
  },
  "language_info": {
   "codemirror_mode": {
    "name": "ipython",
    "version": 3
   },
   "file_extension": ".py",
   "mimetype": "text/x-python",
   "name": "python",
   "nbconvert_exporter": "python",
   "pygments_lexer": "ipython3",
   "version": "3.9.12"
  }
 },
 "nbformat": 4,
 "nbformat_minor": 5
}
